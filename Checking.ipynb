{
 "cells": [
  {
   "cell_type": "code",
   "execution_count": 13,
   "metadata": {},
   "outputs": [],
   "source": [
    "import numpy as np\n",
    "class Star():\n",
    "\t'''\n",
    "\tinputs\n",
    "\t------\n",
    "\n",
    "\t'''\n",
    "\tdef __init__(self, Mass,weight): # initaionliing the class with mass\n",
    "\t\tself.mass=Mass #giving star class atribute mass\n",
    "\t\tself.calc_rest() # profoming calc_rest fucntion definded below\n",
    "\t\tself.Dead=False # Giving star atribute dead and initalizing it to false i.e. star is alive\n",
    "\t\tself.Blown=False\n",
    "\t\tself.Weight=weight\n",
    "\t\n",
    "\tdef calc_rest(self): #defining calc_rest \n",
    "\t\tself.TMS=10**10 *(self.mass)**(-3.5) # calculating the time on the main sequnce \n",
    "\t\n",
    "\tdef Wind(self): # setting up wind procedure for stars past MS\n",
    "\t\tif self.Blown==True: #checking for wind \n",
    "\t\t\tprint(\"Star's wind already accounted for\") # rpinting error message\n",
    "\t\t\treturn 0,0,0,0 # retunring 0 mass to ism\n",
    "\t\telse:\n",
    "\t\t\tif self.mass>=3: # for stars greater than or equal to 3 solar masses\n",
    "\t\t\t\tself.Blown==True\n",
    "\t\t\t\twinda=0.015*self.mass*self.Weight\n",
    "\t\t\t\twindb=0.01*self.mass*self.Weight\n",
    "\t\t\t\treturn winda,winda,windb,0.00\n",
    "\t\t\telse:\n",
    "\t\t\t\treturn 0,0,0,0\n",
    "\n",
    "\tdef Kill(self): # setting up Kill funciton\n",
    "\t\tif self.Dead==True: # checking if star has not already been killed\n",
    "\t\t\tprint(\"Star already Dead \", self.mass) # Printing warning\n",
    "\t\t\treturn 0,0,0,0 # retuening 0 mass to ism\n",
    "\t\telse:\n",
    "\t\t\tif self.mass>8: # for massive stars\n",
    "\t\t\t\tself.dead=True #setting the dead atribute to true\n",
    "\t\t\t\tif self.mass<50: # for less massive set mass for neutron star as reminent\n",
    "\t\t\t\t\tself.mass=1.4 # setting mass for reminent\n",
    "\t\t\t\telse:\n",
    "\t\t\t\t\tself.mass=3.0 # setting mass of remeninat for very massive stars.\n",
    "\t\t\t\treturn 0.1*self.Weight,0.1*self.Weight,0.1*self.Weight,0.3*self.Weight # returning masses of elemens given to ISM  [C,N,O,Fe]\n",
    "\t\t\telif self.mass<=8: # for non massive stars\n",
    "\t\t\t\tself.dead=True# setting dead to True\n",
    "\t\t\t\tself.mass=0\n",
    "\t\t\t\treturn 0.3*self.Weight,0.3*self.Weight,0.3*self.Weight,0.3*self.Weight# returning masses of elemens given to ISM  [C,N,O,Fe]\n"
   ]
  },
  {
   "cell_type": "code",
   "execution_count": 14,
   "metadata": {},
   "outputs": [],
   "source": [
    "def IMF():\n",
    "\tMasses=[]\n",
    "\tWeights=[]\n",
    "\tMran=np.linspace(0.1,100,10000)\n",
    "\t#Const=36354.560545987355\n",
    "\tC= lambda Min, Max,total: total/(-0.35)*(Max**(-(0.35))-Min**(-(0.35)))\n",
    "\tN= lambda M1, M2: C(0.1,100,10**12)/(-1.35) *(M2**(-(1.35))-M1**(-(1.35)))\n",
    "\tfor i in range(1,len(Mran)):\n",
    "\t    Masses.append((Mran[i-1]+Mran[i])/2)\n",
    "\t    Weights.append(N(Mran[i-1],Mran[i]))\n",
    "\t        \n",
    "\treturn Masses,Weights # returning IMF mass array\n",
    "MassArray,WeightArray=IMF() #Getting mass array from above function \n",
    "Galaxy=[] #creating an empty galaxy\n",
    "for i in range(len(MassArray)): #populating galazy with stars from IMF\n",
    "\tGalaxy.append(Star(MassArray[i],WeightArray[i])) #appending Galaxyarray with star objects"
   ]
  },
  {
   "cell_type": "code",
   "execution_count": 25,
   "metadata": {},
   "outputs": [
    {
     "data": {
      "text/plain": [
       "-32956271470610.535"
      ]
     },
     "execution_count": 25,
     "metadata": {},
     "output_type": "execute_result"
    }
   ],
   "source": [
    "mass=0\n",
    "for j in Galaxy:\n",
    "    mass+=(j.mass*j.Weight)\n",
    "10**12 - mass"
   ]
  },
  {
   "cell_type": "code",
   "execution_count": 5,
   "metadata": {},
   "outputs": [
    {
     "name": "stdout",
     "output_type": "stream",
     "text": [
      "['z', 'Time', 'ISM', 'Stars', 'C', 'N', 'O', 'Fe']\n"
     ]
    },
    {
     "data": {
      "text/plain": [
       "\"\\nplt.plot(Data['C'])\\nplt.plot(Data['N'])\\nplt.plot(Data['O'])\\nplt.plot(Data['Fe'])\\n\""
      ]
     },
     "execution_count": 5,
     "metadata": {},
     "output_type": "execute_result"
    },
    {
     "data": {
      "image/png": "[encoded data removed]",
      "text/plain": [
       "<Figure size 432x288 with 1 Axes>"
      ]
     },
     "metadata": {
      "needs_background": "light"
     },
     "output_type": "display_data"
    }
   ],
   "source": [
    "from astropy.io import ascii\n",
    "import matplotlib.pyplot as plt\n",
    "Data=ascii.read('OutputBig.csv')\n",
    "print(Data.colnames)\n",
    "plt.hist(Data['Stars'])\n",
    "'''\n",
    "plt.plot(Data['C'])\n",
    "plt.plot(Data['N'])\n",
    "plt.plot(Data['O'])\n",
    "plt.plot(Data['Fe'])\n",
    "'''"
   ]
  },
  {
   "cell_type": "code",
   "execution_count": 10,
   "metadata": {},
   "outputs": [
    {
     "data": {
      "text/plain": [
       "5826271163061.29"
      ]
     },
     "execution_count": 10,
     "metadata": {},
     "output_type": "execute_result"
    }
   ],
   "source": [
    "C= lambda Min, Max,total: total/(-0.35)*(Max**(-(0.35))-Min**(-(0.35)))\n",
    "Const=C(0.1,100,10**12)\n",
    "Const"
   ]
  },
  {
   "cell_type": "code",
   "execution_count": 11,
   "metadata": {},
   "outputs": [
    {
     "name": "stdout",
     "output_type": "stream",
     "text": [
      "\u001b[0;31m---------------------------------------------------------------------------\u001b[0m\n",
      "\u001b[0;31mTypeError\u001b[0m                                 Traceback (most recent call last)\n",
      "\u001b[0;32m~/GradAstro2/Astro2Project/Project1.py\u001b[0m in \u001b[0;36m<module>\u001b[0;34m\u001b[0m\n",
      "\u001b[1;32m    156\u001b[0m \u001b[0mplt\u001b[0m\u001b[0;34m.\u001b[0m\u001b[0mclf\u001b[0m\u001b[0;34m(\u001b[0m\u001b[0;34m)\u001b[0m\u001b[0;34m\u001b[0m\u001b[0;34m\u001b[0m\u001b[0m\n",
      "\u001b[1;32m    157\u001b[0m \u001b[0mDiff\u001b[0m\u001b[0;34m=\u001b[0m\u001b[0;34m[\u001b[0m\u001b[0mnp\u001b[0m\u001b[0;34m.\u001b[0m\u001b[0mabs\u001b[0m\u001b[0;34m(\u001b[0m\u001b[0mMassArray\u001b[0m\u001b[0;34m[\u001b[0m\u001b[0mi\u001b[0m\u001b[0;34m]\u001b[0m\u001b[0;34m-\u001b[0m\u001b[0mendmass\u001b[0m\u001b[0;34m[\u001b[0m\u001b[0mi\u001b[0m\u001b[0;34m]\u001b[0m\u001b[0;34m)\u001b[0m \u001b[0;32mfor\u001b[0m \u001b[0mi\u001b[0m \u001b[0;32min\u001b[0m \u001b[0mrange\u001b[0m\u001b[0;34m(\u001b[0m\u001b[0mlen\u001b[0m\u001b[0;34m(\u001b[0m\u001b[0mMassArray\u001b[0m\u001b[0;34m)\u001b[0m\u001b[0;34m)\u001b[0m \u001b[0;34m]\u001b[0m\u001b[0;34m\u001b[0m\u001b[0;34m\u001b[0m\u001b[0m\n",
      "\u001b[0;32m--> 158\u001b[0;31m \u001b[0mplt\u001b[0m\u001b[0;34m.\u001b[0m\u001b[0mbar\u001b[0m\u001b[0;34m(\u001b[0m\u001b[0mDiff\u001b[0m\u001b[0;34m)\u001b[0m\u001b[0;34m\u001b[0m\u001b[0;34m\u001b[0m\u001b[0m\n",
      "\u001b[0m\u001b[1;32m    159\u001b[0m \u001b[0mplt\u001b[0m\u001b[0;34m.\u001b[0m\u001b[0msavefig\u001b[0m\u001b[0;34m(\u001b[0m\u001b[0;34m'MassDiff.png'\u001b[0m\u001b[0;34m)\u001b[0m\u001b[0;34m\u001b[0m\u001b[0;34m\u001b[0m\u001b[0m\n",
      "\n",
      "\u001b[0;31mTypeError\u001b[0m: bar() missing 1 required positional argument: 'height'\n",
      "\u001b[0m"
     ]
    }
   ],
   "source": []
  },
  {
   "cell_type": "code",
   "execution_count": null,
   "metadata": {},
   "outputs": [],
   "source": []
  }
 ],
 "metadata": {
  "kernelspec": {
   "display_name": "Python 3",
   "language": "python",
   "name": "python3"
  },
  "language_info": {
   "codemirror_mode": {
    "name": "ipython",
    "version": 3
   },
   "file_extension": ".py",
   "mimetype": "text/x-python",
   "name": "python",
   "nbconvert_exporter": "python",
   "pygments_lexer": "ipython3",
   "version": "3.7.6"
  }
 },
 "nbformat": 4,
 "nbformat_minor": 2
}
