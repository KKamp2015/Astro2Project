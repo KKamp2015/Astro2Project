{
 "cells": [
  {
   "cell_type": "code",
   "execution_count": 10,
   "metadata": {},
   "outputs": [],
   "source": [
    "class Star():\n",
    "\t'''\n",
    "\tinputs\n",
    "\t------\n",
    "\n",
    "\t'''\n",
    "\tdef __init__(self, Mass): # initaionliing the class with mass\n",
    "\t\tself.mass=Mass #giving star class atribute mass\n",
    "\t\tself.calc_rest() # profoming calc_rest fucntion definded below\n",
    "\t\tself.Dead=False # Giving star atribute dead and initalizing it to false i.e. star is alive\n",
    "\t\tself.Blown=False\n",
    "\t\n",
    "\tdef calc_rest(self): #defining calc_rest \n",
    "\t\tself.TMS=10**10 *(self.mass)**(-3.5) # calculating the time on the main sequnce \n",
    "\t\n",
    "\tdef Wind(self): # setting up wind procedure for stars past MS\n",
    "\t\tif self.Blown==True: #checking for wind \n",
    "\t\t\tprint(\"Star's wind already accounted for\") # rpinting error message\n",
    "\t\t\treturn 0 # retunring 0 mass to ism\n",
    "\t\telse:\n",
    "\t\t\tif self.mass<=8: # for stars less than 8 solar masses\n",
    "\t\t\t\tself.Blown==True\n",
    "\t\t\t\treturn 0.05*self.mass\n",
    "\t\t\telif self.mass>=3: # for stars greater than or equal to 8 solar masses\n",
    "\t\t\t\tself.Blown==True\n",
    "\t\t\t\treturn 0.05*self.mass\n",
    "\t\t\telse:\n",
    "\t\t\t\treturn 0\n",
    "\n",
    "\tdef Kill(self): # setting up Kill funciton\n",
    "\t\tif self.Dead==True: # checking if star has not already been killed\n",
    "\t\t\tprint(\"Star already Dead \", self.mass) # Printing warning\n",
    "\t\t\treturn 0 # retuening 0 mass to ism\n",
    "\t\telse:\n",
    "\t\t\tif self.mass>8: # for massive stars\n",
    "\t\t\t\tself.dead=True #setting the dead atribute to true\n",
    "\t\t\t\tif self.mass<50: # for less massive set mass for neutron star as reminent\n",
    "\t\t\t\t\tself.mass=1.4 # setting mass for reminent\n",
    "\t\t\t\telse:\n",
    "\t\t\t\t\tself.mass=3.0 # setting mass of remeninat for very massive stars.\n",
    "\t\t\t\treturn sum([0.1,0.1,0.1,0.3]) # returning masses of elemens given to ISM  [C,N,O,Fe]\n",
    "\t\t\telif self.mass<=8: # for non massive stars\n",
    "\t\t\t\tself.dead=True# setting dead to True\n",
    "\t\t\t\tself.mass=0\n",
    "\t\t\t\treturn sum([0.3,0.3,0.3,0.3])# returning masses of elemens given to ISM  [C,N,O,Fe]\n",
    "\n"
   ]
  },
  {
   "cell_type": "code",
   "execution_count": 16,
   "metadata": {},
   "outputs": [
    {
     "data": {
      "text/plain": [
       "3162277.6601683795"
      ]
     },
     "execution_count": 16,
     "metadata": {},
     "output_type": "execute_result"
    }
   ],
   "source": [
    "x=Star(10)\n",
    "x.TMS"
   ]
  },
  {
   "cell_type": "code",
   "execution_count": 19,
   "metadata": {},
   "outputs": [
    {
     "data": {
      "text/plain": [
       "True"
      ]
     },
     "execution_count": 19,
     "metadata": {},
     "output_type": "execute_result"
    }
   ],
   "source": [
    "t=10000\n",
    "x.TMS*1.1>t"
   ]
  },
  {
   "cell_type": "code",
   "execution_count": 10,
   "metadata": {},
   "outputs": [
    {
     "data": {
      "text/plain": [
       "[<matplotlib.lines.Line2D at 0x7fb7aa3aa4d0>]"
      ]
     },
     "execution_count": 10,
     "metadata": {},
     "output_type": "execute_result"
    },
    {
     "data": {
      "image/png": "[encoded data removed]",
      "text/plain": [
       "<Figure size 432x288 with 1 Axes>"
      ]
     },
     "metadata": {
      "needs_background": "light"
     },
     "output_type": "display_data"
    }
   ],
   "source": [
    "from astropy.io import ascii\n",
    "import matplotlib.pyplot as plt\n",
    "Data=ascii.read('OutputBig.csv')\n",
    "plt.plot(Data['C'])\n",
    "plt.plot(Data['N'])\n",
    "plt.plot(Data['O'])\n",
    "plt.plot(Data['Fe'])"
   ]
  },
  {
   "cell_type": "code",
   "execution_count": null,
   "metadata": {},
   "outputs": [],
   "source": []
  },
  {
   "cell_type": "code",
   "execution_count": null,
   "metadata": {},
   "outputs": [],
   "source": []
  }
 ],
 "metadata": {
  "kernelspec": {
   "display_name": "Python 3",
   "language": "python",
   "name": "python3"
  },
  "language_info": {
   "codemirror_mode": {
    "name": "ipython",
    "version": 3
   },
   "file_extension": ".py",
   "mimetype": "text/x-python",
   "name": "python",
   "nbconvert_exporter": "python",
   "pygments_lexer": "ipython3",
   "version": "3.7.6"
  }
 },
 "nbformat": 4,
 "nbformat_minor": 2
}
