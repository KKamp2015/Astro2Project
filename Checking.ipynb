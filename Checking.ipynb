{
 "cells": [
  {
   "cell_type": "code",
   "execution_count": 20,
   "metadata": {},
   "outputs": [],
   "source": [
    "import numpy as np\n",
    "import matplotlib.pyplot as plt"
   ]
  },
  {
   "cell_type": "code",
   "execution_count": 9,
   "metadata": {},
   "outputs": [],
   "source": [
    "\n",
    "\n",
    "class Star():\n",
    "\t'''\n",
    "\tinputs\n",
    "\t------\n",
    "\n",
    "\t'''\n",
    "\tdef __init__(self, Mass,weight): # initaionliing the class with mass\n",
    "\t\tself.mass=Mass #giving star class atribute mass\n",
    "\t\tself.calc_rest() # profoming calc_rest fucntion definded below\n",
    "\t\tself.Dead=False # Giving star atribute dead and initalizing it to false i.e. star is alive\n",
    "\t\tself.Blown=False\n",
    "\t\tself.Weight=weight\n",
    "\t\n",
    "\tdef calc_rest(self): #defining calc_rest \n",
    "\t\tself.TMS=10**10 *(self.mass)**(-3.5) # calculating the time on the main sequnce \n",
    "\t\n",
    "\tdef Wind(self): # setting up wind procedure for stars past MS\n",
    "\t\tif self.Blown==True: #checking for wind \n",
    "\t\t\tprint(\"Star's wind already accounted for\") # rpinting error message\n",
    "\t\t\treturn 0,0,0,0 # retunring 0 mass to ism\n",
    "\t\telse:\n",
    "\t\t\tif self.mass>=3: # for stars greater than or equal to 3 solar masses\n",
    "\t\t\t\tself.Blown==True\n",
    "\t\t\t\twinda=0.015*self.mass*self.Weight\n",
    "\t\t\t\twindb=0.01*self.mass*self.Weight\n",
    "\t\t\t\treturn winda,winda,windb,0.00\n",
    "\t\t\telse:\n",
    "\t\t\t\treturn 0,0,0,0\n",
    "\n",
    "\tdef Kill(self): # setting up Kill funciton\n",
    "\t\tif self.Dead==True: # checking if star has not already been killed\n",
    "\t\t\tprint(\"Star already Dead \", self.mass) # Printing warning\n",
    "\t\t\treturn 0,0,0,0 # retuening 0 mass to ism\n",
    "\t\telse:\n",
    "\t\t\tif self.mass>8: # for massive stars\n",
    "\t\t\t\tself.dead=True #setting the dead atribute to true\n",
    "\t\t\t\tif self.mass<50: # for less massive set mass for neutron star as reminent\n",
    "\t\t\t\t\tself.mass=1.4 # setting mass for reminent\n",
    "\t\t\t\telse:\n",
    "\t\t\t\t\tself.mass=3.0 # setting mass of remeninat for very massive stars.\n",
    "\t\t\t\treturn 0.1*self.Weight,0.1*self.Weight,0.1*self.Weight,0.3*self.Weight # returning masses of elemens given to ISM  [C,N,O,Fe]\n",
    "\t\t\telif self.mass<=8: # for non massive stars\n",
    "\t\t\t\tself.dead=True# setting dead to True\n",
    "\t\t\t\tself.mass=0\n",
    "\t\t\t\treturn 0.3*self.Weight,0.3*self.Weight,0.3*self.Weight,0.3*self.Weight# returning masses of elemens given to ISM  [C,N,O,Fe]\n"
   ]
  },
  {
   "cell_type": "code",
   "execution_count": 10,
   "metadata": {},
   "outputs": [],
   "source": [
    "def IMF():\n",
    "\tMasses=[]\n",
    "\tWeights=[]\n",
    "\tMran=np.linspace(0.1,100,10000)\n",
    "\t#Const=36354.560545987355\n",
    "\tC= lambda Min, Max,total: total/(-0.35)*(Max**(-(0.35))-Min**(-(0.35)))\n",
    "\tN= lambda M1, M2: C(0.1,100,10**12)/(-1.35) *(M2**(-(1.35))-M1**(-(1.35)))\n",
    "\tfor i in range(1,len(Mran)):\n",
    "\t    Masses.append((Mran[i-1]+Mran[i])/2)\n",
    "\t    Weights.append(N(Mran[i-1],Mran[i]))\n",
    "\t        \n",
    "\treturn Masses,Weights # returning IMF mass array\n",
    "MassArray,WeightArray=IMF() #Getting mass array from above function \n",
    "Galaxy=[] #creating an empty galaxy\n",
    "for i in range(len(MassArray)): #populating galazy with stars from IMF\n",
    "\tGalaxy.append(Star(MassArray[i],WeightArray[i])) #appending Galaxyarray with star objects"
   ]
  },
  {
   "cell_type": "code",
   "execution_count": 12,
   "metadata": {},
   "outputs": [],
   "source": [
    "def IMF(Mass):\n",
    "\tMasses=[]\n",
    "\tWeights=[]\n",
    "\tMran=np.linspace(0.1,100,10000)\n",
    "\t#Const=36354.560545987355\n",
    "\tC= lambda Min, Max,total: (total*(-0.35))/((Max**(-(0.35))-Min**(-(0.35))))\n",
    "\tN= lambda M1, M2: (C(0.1,100,Mass)/(-1.35)) *(M2**(-(1.35))-M1**(-(1.35)))\n",
    "\tfor i in range(1,len(Mran)):\n",
    "\t    #Masses.append((Mran[i-1]+Mran[i])/2)\n",
    "\t    Masses.append(Mran[i])\n",
    "\t    Weights.append(N(Mran[i-1],Mran[i]))\n",
    "\t        \n",
    "\treturn Masses,Weights # returning IMF mass array\n",
    "iMStar=10**12\n",
    "MassArray,WeightArray=IMF(iMStar)"
   ]
  },
  {
   "cell_type": "code",
   "execution_count": 16,
   "metadata": {},
   "outputs": [],
   "source": [
    "totalmass=sum([a*b for a,b in zip(MassArray,WeightArray)])"
   ]
  },
  {
   "cell_type": "code",
   "execution_count": 5,
   "metadata": {},
   "outputs": [],
   "source": [
    "LookBack= lambda z: (2/(3*H0))*(1-(1/(1+z)**(3/2)))\n",
    "H0= 1/13.8e9"
   ]
  },
  {
   "cell_type": "code",
   "execution_count": 25,
   "metadata": {},
   "outputs": [],
   "source": [
    "Z=np.linspace(0,12,1000) #creating array of reshifts staring at z=12 and going to 0 with 100000 elements\n",
    "Time1=LookBack(Z)\n",
    "Time=np.abs(Time1-max(Time1))[::-1]"
   ]
  },
  {
   "cell_type": "code",
   "execution_count": 26,
   "metadata": {},
   "outputs": [
    {
     "data": {
      "text/plain": [
       "[<matplotlib.lines.Line2D at 0x7ff6203ab690>]"
      ]
     },
     "execution_count": 26,
     "metadata": {},
     "output_type": "execute_result"
    },
    {
     "data": {
      "image/png": "[encoded data removed]",
      "text/plain": [
       "<Figure size 432x288 with 1 Axes>"
      ]
     },
     "metadata": {
      "needs_background": "light"
     },
     "output_type": "display_data"
    }
   ],
   "source": [
    "plt.plot(Time1-Time)"
   ]
  },
  {
   "cell_type": "code",
   "execution_count": null,
   "metadata": {},
   "outputs": [],
   "source": []
  }
 ],
 "metadata": {
  "kernelspec": {
   "display_name": "Python 3",
   "language": "python",
   "name": "python3"
  },
  "language_info": {
   "codemirror_mode": {
    "name": "ipython",
    "version": 3
   },
   "file_extension": ".py",
   "mimetype": "text/x-python",
   "name": "python",
   "nbconvert_exporter": "python",
   "pygments_lexer": "ipython3",
   "version": "3.7.6"
  }
 },
 "nbformat": 4,
 "nbformat_minor": 2
}
